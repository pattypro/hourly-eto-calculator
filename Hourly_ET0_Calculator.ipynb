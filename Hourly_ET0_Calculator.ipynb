
{
 "cells": [
  {
   "cell_type": "markdown",
   "metadata": {},
   "source": [
    "# Hourly ET₀ Calculator – FAO Penman-Monteith Method\n",
    "This notebook calculates hourly reference evapotranspiration (ET₀) using weather station data."
   ]
  },
  {
   "cell_type": "code",
   "execution_count": null,
   "metadata": {},
   "outputs": [],
   "source": [
    "# 📌 Install required library\n",
    "!pip install pysolar"
   ]
  },
  {
   "cell_type": "code",
   "execution_count": null,
   "metadata": {},
   "outputs": [],
   "source": [
    "# 📚 Import required libraries\n",
    "import pandas as pd\n",
    "import numpy as np\n",
    "import matplotlib.pyplot as plt\n",
    "from math import exp\n",
    "from datetime import datetime\n",
    "from pysolar.solar import get_altitude"
   ]
  },
  {
   "cell_type": "code",
   "execution_count": null,
   "metadata": {},
   "outputs": [],
   "source": [
    "# 📥 Upload your file\n",
    "from google.colab import files\n",
    "uploaded = files.upload()"
   ]
  },
  {
   "cell_type": "code",
   "execution_count": null,
   "metadata": {},
   "outputs": [],
   "source": [
    "# 📊 Read data\n",
    "df = pd.read_csv(next(iter(uploaded)))\n",
    "df['Datetime'] = pd.to_datetime(df['Date'] + ' ' + df['Hour'])"
   ]
  },
  {
   "cell_type": "code",
   "execution_count": null,
   "metadata": {},
   "outputs": [],
   "source": [
    "# Constants\n",
    "Gsc = 0.0820\n",
    "albedo = 0.23\n",
    "lat = 36.5657  # Utsunomiya latitude\n",
    "z = df['Elevation'].iloc[0]"
   ]
  },
  {
   "cell_type": "code",
   "execution_count": null,
   "metadata": {},
   "outputs": [],
   "source": [
    "# FAO Penman-Monteith function\n",
    "def calculate_eto(row):\n",
    "    T = row['T_air']\n",
    "    RH = row['RH']\n",
    "    u2 = row['Wind_speed_2m']\n",
    "    Rs = row['Solar_radiation']\n",
    "    time = row['Datetime']\n",
    "    es = 0.6108 * exp((17.27 * T) / (T + 237.3))\n",
    "    ea = es * (RH / 100)\n",
    "    delta = (4098 * es) / ((T + 237.3)**2)\n",
    "    P = 101.3 * ((293 - 0.0065 * z)/293)**5.26\n",
    "    gamma = 0.665e-3 * P\n",
    "    Rns = (1 - albedo) * Rs\n",
    "    Rnl = 0\n",
    "    Rn = Rns - Rnl\n",
    "    G = 0\n",
    "    numerator = (0.408 * delta * (Rn - G)) + (gamma * (900 / (T + 273)) * u2 * (es - ea))\n",
    "    denominator = delta + gamma * (1 + 0.34 * u2)\n",
    "    eto = numerator / denominator\n",
    "    return eto"
   ]
  },
  {
   "cell_type": "code",
   "execution_count": null,
   "metadata": {},
   "outputs": [],
   "source": [
    "# Apply calculation\n",
    "df['ET0'] = df.apply(calculate_eto, axis=1)"
   ]
  },
  {
   "cell_type": "code",
   "execution_count": null,
   "metadata": {},
   "outputs": [],
   "source": [
    "# 📈 Plot\n",
    "plt.figure(figsize=(10,5))\n",
    "plt.plot(df['Datetime'], df['ET0'], marker='o')\n",
    "plt.title('Hourly Reference Evapotranspiration (ET₀)')\n",
    "plt.xlabel('Time')\n",
    "plt.ylabel('ET₀ (mm/hr)')\n",
    "plt.grid(True)\n",
    "plt.xticks(rotation=45)\n",
    "plt.tight_layout()\n",
    "plt.show()"
   ]
  },
  {
   "cell_type": "code",
   "execution_count": null,
   "metadata": {},
   "outputs": [],
   "source": [
    "# 💾 Save to CSV\n",
    "output_filename = \"eto_output.csv\"\n",
    "df.to_csv(output_filename, index=False)\n",
    "files.download(output_filename)"
   ]
  }
 ],
 "metadata": {
  "kernelspec": {
   "display_name": "Python 3",
   "language": "python",
   "name": "python3"
  },
  "language_info": {
   "name": "python",
   "version": ""
  }
 },
 "nbformat": 4,
 "nbformat_minor": 0
}
